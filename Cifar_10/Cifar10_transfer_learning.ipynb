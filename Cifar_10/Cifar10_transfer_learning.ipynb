{
  "cells": [
    {
      "cell_type": "markdown",
      "metadata": {
        "id": "anEZVtkR10AH"
      },
      "source": [
        "## Cifar 10 classification using Transfer Learning"
      ]
    },
    {
      "cell_type": "markdown",
      "metadata": {
        "id": "Kv6HK1VD3esr"
      },
      "source": [
        "## Import Libraries And Load Dataset\n",
        "\n"
      ]
    },
    {
      "cell_type": "code",
      "execution_count": 1,
      "metadata": {
        "id": "1X5Y1kJExxqm"
      },
      "outputs": [],
      "source": [
        "import pandas as pd\n",
        "import numpy as np\n",
        "import matplotlib.pyplot as plt"
      ]
    },
    {
      "cell_type": "code",
      "execution_count": 2,
      "metadata": {
        "id": "jShaRSf22TfV"
      },
      "outputs": [],
      "source": [
        "from tensorflow.keras.layers import Dense,Flatten,Dropout\n",
        "from tensorflow.keras.models import Model\n",
        "from tensorflow.keras.preprocessing import image\n",
        "from tensorflow.keras.preprocessing.image import ImageDataGenerator\n",
        "from tensorflow.keras.optimizers import Adam\n",
        "from tensorflow.keras.optimizers import SGD\n",
        "import tensorflow.keras.utils as ku\n",
        "from tensorflow.keras.applications.vgg19 import VGG19\n",
        "from tensorflow.keras.applications.vgg19 import preprocess_input\n",
        "from tensorflow.keras.callbacks import ReduceLROnPlateau"
      ]
    },
    {
      "cell_type": "code",
      "execution_count": 3,
      "metadata": {
        "colab": {
          "base_uri": "https://localhost:8080/",
          "height": 36
        },
        "id": "nqzbRwiyyA3Q",
        "outputId": "06e5361c-954b-42e0-9ea2-8a97bf68fc11"
      },
      "outputs": [
        {
          "output_type": "execute_result",
          "data": {
            "text/plain": [
              "'2.8.2'"
            ],
            "application/vnd.google.colaboratory.intrinsic+json": {
              "type": "string"
            }
          },
          "metadata": {},
          "execution_count": 3
        }
      ],
      "source": [
        "import tensorflow as tf\n",
        "tf.__version__"
      ]
    },
    {
      "cell_type": "code",
      "execution_count": 4,
      "metadata": {
        "id": "G7-HMZX41XRN"
      },
      "outputs": [],
      "source": [
        "from tensorflow.keras.datasets import cifar10"
      ]
    },
    {
      "cell_type": "code",
      "execution_count": 5,
      "metadata": {
        "colab": {
          "base_uri": "https://localhost:8080/"
        },
        "id": "UbH8OVaE1gIm",
        "outputId": "31a9b045-ab9f-4c83-c191-5c4754f07fb6"
      },
      "outputs": [
        {
          "output_type": "stream",
          "name": "stdout",
          "text": [
            "Downloading data from https://www.cs.toronto.edu/~kriz/cifar-10-python.tar.gz\n",
            "170500096/170498071 [==============================] - 13s 0us/step\n",
            "170508288/170498071 [==============================] - 13s 0us/step\n"
          ]
        }
      ],
      "source": [
        "(x_train, y_train), (x_test, y_test) = cifar10.load_data()"
      ]
    },
    {
      "cell_type": "markdown",
      "metadata": {
        "id": "uMIW-rRK3V2O"
      },
      "source": [
        "## Prepare The Dataset\n",
        "\n"
      ]
    },
    {
      "cell_type": "code",
      "execution_count": 6,
      "metadata": {
        "colab": {
          "base_uri": "https://localhost:8080/"
        },
        "id": "oGjsRyUh1s7u",
        "outputId": "64acf4b7-8642-44a2-eed3-43e3cd7e5604"
      },
      "outputs": [
        {
          "output_type": "stream",
          "name": "stdout",
          "text": [
            "(50000, 32, 32, 3)\n",
            "(50000, 1)\n",
            "(10000, 32, 32, 3)\n",
            "(10000, 1)\n"
          ]
        }
      ],
      "source": [
        "print(x_train.shape)\n",
        "print(y_train.shape)\n",
        "print(x_test.shape)\n",
        "print(y_test.shape)"
      ]
    },
    {
      "cell_type": "code",
      "execution_count": 7,
      "metadata": {
        "id": "BSzP0QFBRw8V"
      },
      "outputs": [],
      "source": [
        "x_train=x_train/255\n",
        "x_test=x_test/255"
      ]
    },
    {
      "cell_type": "code",
      "execution_count": 8,
      "metadata": {
        "id": "8h1VbZuwRcZ1"
      },
      "outputs": [],
      "source": [
        "y_train = ku.to_categorical(y_train, 10)\n",
        "y_test = ku.to_categorical(y_test, 10)"
      ]
    },
    {
      "cell_type": "markdown",
      "metadata": {
        "id": "GVIYHzAT54WA"
      },
      "source": [
        "## Building Transfer Learning Models"
      ]
    },
    {
      "cell_type": "code",
      "execution_count": 9,
      "metadata": {
        "colab": {
          "base_uri": "https://localhost:8080/"
        },
        "id": "m0tEZY__D17x",
        "outputId": "99ab64b2-21ea-4969-afd8-4356582eec21"
      },
      "outputs": [
        {
          "output_type": "stream",
          "name": "stdout",
          "text": [
            "Downloading data from https://storage.googleapis.com/tensorflow/keras-applications/vgg19/vgg19_weights_tf_dim_ordering_tf_kernels_notop.h5\n",
            "80142336/80134624 [==============================] - 1s 0us/step\n",
            "80150528/80134624 [==============================] - 1s 0us/step\n"
          ]
        }
      ],
      "source": [
        "vgg = VGG19(input_shape=(32,32,3), weights='imagenet', include_top=False)"
      ]
    },
    {
      "cell_type": "code",
      "execution_count": 10,
      "metadata": {
        "id": "dVOR8tjWD4IR"
      },
      "outputs": [],
      "source": [
        "for layer in vgg.layers:\n",
        "  layer.trainable = False"
      ]
    },
    {
      "cell_type": "code",
      "execution_count": 11,
      "metadata": {
        "id": "oijnO8b2D_8x"
      },
      "outputs": [],
      "source": [
        "x = Flatten()(vgg.output)"
      ]
    },
    {
      "cell_type": "code",
      "execution_count": 12,
      "metadata": {
        "id": "58ynob-xEYx7"
      },
      "outputs": [],
      "source": [
        "x=Dense(units=1024,activation='relu')(x)\n",
        "x=Dense(units=512,activation='relu')(x)\n",
        "x=Dropout(0.3)(x)\n",
        "x=Dense(units=256,activation='relu')(x)\n",
        "x=Dropout(0.2)(x)\n",
        "x=Dense(units=128,activation='relu')(x)\n",
        "prediction = Dense(units=10, activation='softmax')(x)"
      ]
    },
    {
      "cell_type": "code",
      "execution_count": 13,
      "metadata": {
        "id": "tm8IaqyKEhp_"
      },
      "outputs": [],
      "source": [
        "model = Model(inputs=vgg.input, outputs=prediction)"
      ]
    },
    {
      "cell_type": "code",
      "execution_count": 14,
      "metadata": {
        "colab": {
          "base_uri": "https://localhost:8080/"
        },
        "id": "ytO5m1dPElRd",
        "outputId": "bdbb7ccc-e2b5-4093-8c7c-c08b21496ec3"
      },
      "outputs": [
        {
          "output_type": "stream",
          "name": "stdout",
          "text": [
            "Model: \"model\"\n",
            "_________________________________________________________________\n",
            " Layer (type)                Output Shape              Param #   \n",
            "=================================================================\n",
            " input_1 (InputLayer)        [(None, 32, 32, 3)]       0         \n",
            "                                                                 \n",
            " block1_conv1 (Conv2D)       (None, 32, 32, 64)        1792      \n",
            "                                                                 \n",
            " block1_conv2 (Conv2D)       (None, 32, 32, 64)        36928     \n",
            "                                                                 \n",
            " block1_pool (MaxPooling2D)  (None, 16, 16, 64)        0         \n",
            "                                                                 \n",
            " block2_conv1 (Conv2D)       (None, 16, 16, 128)       73856     \n",
            "                                                                 \n",
            " block2_conv2 (Conv2D)       (None, 16, 16, 128)       147584    \n",
            "                                                                 \n",
            " block2_pool (MaxPooling2D)  (None, 8, 8, 128)         0         \n",
            "                                                                 \n",
            " block3_conv1 (Conv2D)       (None, 8, 8, 256)         295168    \n",
            "                                                                 \n",
            " block3_conv2 (Conv2D)       (None, 8, 8, 256)         590080    \n",
            "                                                                 \n",
            " block3_conv3 (Conv2D)       (None, 8, 8, 256)         590080    \n",
            "                                                                 \n",
            " block3_conv4 (Conv2D)       (None, 8, 8, 256)         590080    \n",
            "                                                                 \n",
            " block3_pool (MaxPooling2D)  (None, 4, 4, 256)         0         \n",
            "                                                                 \n",
            " block4_conv1 (Conv2D)       (None, 4, 4, 512)         1180160   \n",
            "                                                                 \n",
            " block4_conv2 (Conv2D)       (None, 4, 4, 512)         2359808   \n",
            "                                                                 \n",
            " block4_conv3 (Conv2D)       (None, 4, 4, 512)         2359808   \n",
            "                                                                 \n",
            " block4_conv4 (Conv2D)       (None, 4, 4, 512)         2359808   \n",
            "                                                                 \n",
            " block4_pool (MaxPooling2D)  (None, 2, 2, 512)         0         \n",
            "                                                                 \n",
            " block5_conv1 (Conv2D)       (None, 2, 2, 512)         2359808   \n",
            "                                                                 \n",
            " block5_conv2 (Conv2D)       (None, 2, 2, 512)         2359808   \n",
            "                                                                 \n",
            " block5_conv3 (Conv2D)       (None, 2, 2, 512)         2359808   \n",
            "                                                                 \n",
            " block5_conv4 (Conv2D)       (None, 2, 2, 512)         2359808   \n",
            "                                                                 \n",
            " block5_pool (MaxPooling2D)  (None, 1, 1, 512)         0         \n",
            "                                                                 \n",
            " flatten (Flatten)           (None, 512)               0         \n",
            "                                                                 \n",
            " dense (Dense)               (None, 1024)              525312    \n",
            "                                                                 \n",
            " dense_1 (Dense)             (None, 512)               524800    \n",
            "                                                                 \n",
            " dropout (Dropout)           (None, 512)               0         \n",
            "                                                                 \n",
            " dense_2 (Dense)             (None, 256)               131328    \n",
            "                                                                 \n",
            " dropout_1 (Dropout)         (None, 256)               0         \n",
            "                                                                 \n",
            " dense_3 (Dense)             (None, 128)               32896     \n",
            "                                                                 \n",
            " dense_4 (Dense)             (None, 10)                1290      \n",
            "                                                                 \n",
            "=================================================================\n",
            "Total params: 21,240,010\n",
            "Trainable params: 1,215,626\n",
            "Non-trainable params: 20,024,384\n",
            "_________________________________________________________________\n"
          ]
        }
      ],
      "source": [
        "model.summary()"
      ]
    },
    {
      "cell_type": "code",
      "execution_count": 15,
      "metadata": {
        "id": "z0617QF9Es4_"
      },
      "outputs": [],
      "source": [
        "model.compile(loss='categorical_crossentropy',optimizer=Adam(learning_rate=0.001),metrics=['accuracy'])"
      ]
    },
    {
      "cell_type": "code",
      "execution_count": 16,
      "metadata": {
        "id": "82OfdfQjPqJ9"
      },
      "outputs": [],
      "source": [
        "train_datagen = ImageDataGenerator(\n",
        "       horizontal_flip=False,\n",
        "       zoom_range=.1 )\n",
        "\n",
        "\n",
        "train_datagen.fit(x_train)"
      ]
    },
    {
      "cell_type": "code",
      "execution_count": 17,
      "metadata": {
        "colab": {
          "base_uri": "https://localhost:8080/"
        },
        "id": "Lrt2YoKGPxqi",
        "outputId": "6b9d1aeb-4d0d-4a09-f711-7ca6f802f546"
      },
      "outputs": [
        {
          "output_type": "stream",
          "name": "stdout",
          "text": [
            "Epoch 1/20\n"
          ]
        },
        {
          "output_type": "stream",
          "name": "stderr",
          "text": [
            "/usr/local/lib/python3.7/dist-packages/ipykernel_launcher.py:5: UserWarning: `Model.fit_generator` is deprecated and will be removed in a future version. Please use `Model.fit`, which supports generators.\n",
            "  \"\"\"\n"
          ]
        },
        {
          "output_type": "stream",
          "name": "stdout",
          "text": [
            "333/333 [==============================] - 35s 70ms/step - loss: 1.5433 - accuracy: 0.4484 - val_loss: 1.3146 - val_accuracy: 0.5379\n",
            "Epoch 2/20\n",
            "333/333 [==============================] - 22s 67ms/step - loss: 1.3252 - accuracy: 0.5378 - val_loss: 1.2330 - val_accuracy: 0.5680\n",
            "Epoch 3/20\n",
            "333/333 [==============================] - 22s 67ms/step - loss: 1.2494 - accuracy: 0.5625 - val_loss: 1.2015 - val_accuracy: 0.5770\n",
            "Epoch 4/20\n",
            "333/333 [==============================] - 22s 67ms/step - loss: 1.2016 - accuracy: 0.5806 - val_loss: 1.2139 - val_accuracy: 0.5754\n",
            "Epoch 5/20\n",
            "333/333 [==============================] - 23s 69ms/step - loss: 1.1546 - accuracy: 0.5956 - val_loss: 1.2241 - val_accuracy: 0.5719\n",
            "Epoch 6/20\n",
            "333/333 [==============================] - 22s 67ms/step - loss: 1.1186 - accuracy: 0.6055 - val_loss: 1.1667 - val_accuracy: 0.5937\n",
            "Epoch 7/20\n",
            "333/333 [==============================] - 22s 67ms/step - loss: 1.0871 - accuracy: 0.6184 - val_loss: 1.1547 - val_accuracy: 0.6060\n",
            "Epoch 8/20\n",
            "333/333 [==============================] - 22s 67ms/step - loss: 1.0578 - accuracy: 0.6273 - val_loss: 1.1474 - val_accuracy: 0.6078\n",
            "Epoch 9/20\n",
            "333/333 [==============================] - 22s 67ms/step - loss: 1.0290 - accuracy: 0.6379 - val_loss: 1.1297 - val_accuracy: 0.6177\n",
            "Epoch 10/20\n",
            "333/333 [==============================] - 22s 67ms/step - loss: 1.0018 - accuracy: 0.6483 - val_loss: 1.1578 - val_accuracy: 0.6074\n",
            "Epoch 11/20\n",
            "333/333 [==============================] - 22s 67ms/step - loss: 0.9697 - accuracy: 0.6568 - val_loss: 1.1699 - val_accuracy: 0.6053\n",
            "Epoch 12/20\n",
            "333/333 [==============================] - 23s 70ms/step - loss: 0.9423 - accuracy: 0.6674 - val_loss: 1.1621 - val_accuracy: 0.6096\n",
            "Epoch 13/20\n",
            "333/333 [==============================] - 22s 67ms/step - loss: 0.9230 - accuracy: 0.6746 - val_loss: 1.1390 - val_accuracy: 0.6198\n",
            "Epoch 14/20\n",
            "333/333 [==============================] - 23s 69ms/step - loss: 0.8976 - accuracy: 0.6792 - val_loss: 1.1788 - val_accuracy: 0.6108\n",
            "Epoch 15/20\n",
            "333/333 [==============================] - 22s 66ms/step - loss: 0.8756 - accuracy: 0.6895 - val_loss: 1.1924 - val_accuracy: 0.6056\n",
            "Epoch 16/20\n",
            "333/333 [==============================] - 22s 66ms/step - loss: 0.8526 - accuracy: 0.6984 - val_loss: 1.2180 - val_accuracy: 0.6151\n",
            "Epoch 17/20\n",
            "333/333 [==============================] - 22s 67ms/step - loss: 0.8280 - accuracy: 0.7066 - val_loss: 1.2062 - val_accuracy: 0.6171\n",
            "Epoch 18/20\n",
            "333/333 [==============================] - 22s 67ms/step - loss: 0.8076 - accuracy: 0.7119 - val_loss: 1.2384 - val_accuracy: 0.6045\n",
            "Epoch 19/20\n",
            "333/333 [==============================] - 22s 67ms/step - loss: 0.7885 - accuracy: 0.7194 - val_loss: 1.2318 - val_accuracy: 0.6122\n",
            "Epoch 20/20\n",
            "333/333 [==============================] - 22s 66ms/step - loss: 0.7658 - accuracy: 0.7243 - val_loss: 1.2533 - val_accuracy: 0.6093\n"
          ]
        }
      ],
      "source": [
        "# fits the model on batches with real-time data augmentation:\n",
        "history=model.fit_generator(train_datagen.flow(x_train, y_train, batch_size=150),\n",
        "                    steps_per_epoch=len(x_train) / 150, epochs=20,\n",
        "                    validation_data=(x_test,y_test),\n",
        "                    validation_steps=len(x_test)/150)"
      ]
    },
    {
      "cell_type": "code",
      "execution_count": 18,
      "metadata": {
        "colab": {
          "base_uri": "https://localhost:8080/",
          "height": 374
        },
        "id": "qxg6zwexXBMy",
        "outputId": "776eb448-5a7a-41e5-a336-275bf93319bb"
      },
      "outputs": [
        {
          "output_type": "display_data",
          "data": {
            "text/plain": [
              "<Figure size 1440x432 with 2 Axes>"
            ],
            "image/png": "[encoded data removed]"
          },
          "metadata": {
            "needs_background": "light"
          }
        }
      ],
      "source": [
        "fig,(ax1,ax2)=plt.subplots(nrows=1,ncols=2,figsize=(20,6))\n",
        "ax1.plot(history.history['accuracy'],label='train_accuracy')\n",
        "ax1.plot(history.history['val_accuracy'],label='test_accuracy')\n",
        "ax1.legend()\n",
        "ax2.plot(history.history['loss'],label='train_loss')\n",
        "ax2.plot(history.history['val_loss'],label='test_loss')\n",
        "ax2.legend()\n",
        "plt.show()"
      ]
    }
  ],
  "metadata": {
    "accelerator": "GPU",
    "colab": {
      "collapsed_sections": [],
      "name": "Cifar10_transfer_learning.ipynb",
      "provenance": []
    },
    "kernelspec": {
      "display_name": "Python 3 (ipykernel)",
      "language": "python",
      "name": "python3"
    },
    "language_info": {
      "codemirror_mode": {
        "name": "ipython",
        "version": 3
      },
      "file_extension": ".py",
      "mimetype": "text/x-python",
      "name": "python",
      "nbconvert_exporter": "python",
      "pygments_lexer": "ipython3",
      "version": "3.9.12"
    }
  },
  "nbformat": 4,
  "nbformat_minor": 0
}